{
 "cells": [
  {
   "cell_type": "markdown",
   "id": "2e057453-d10f-4b5e-8887-03ead34d2008",
   "metadata": {},
   "source": [
    "# basic ARIMA"
   ]
  },
  {
   "cell_type": "code",
   "execution_count": null,
   "id": "58ede352-e8d1-4748-bf82-ed1b4ad749ea",
   "metadata": {},
   "outputs": [],
   "source": [
    "import pandas as pd\n",
    "from statsmodels.tsa.arima.model import ARIMA\n",
    "import statsmodels.api as sm\n",
    "from statsmodels.graphics.tsaplots import plot_acf\n",
    "from statsmodels.graphics.tsaplots import plot_pacf\n",
    "from statsmodels.tsa.stattools import adfuller\n",
    "import sklearn.metrics as skmetrics #For evaluation metrics\n",
    "\n",
    "import matplotlib.pyplot as plt\n",
    "\n",
    "import warnings                               \n",
    "warnings.filterwarnings('ignore')"
   ]
  },
  {
   "cell_type": "code",
   "execution_count": 3,
   "id": "19845579-b968-486a-bd86-1bca563f44c0",
   "metadata": {
    "tags": []
   },
   "outputs": [
    {
     "data": {
      "text/html": [
       "<div>\n",
       "<style scoped>\n",
       "    .dataframe tbody tr th:only-of-type {\n",
       "        vertical-align: middle;\n",
       "    }\n",
       "\n",
       "    .dataframe tbody tr th {\n",
       "        vertical-align: top;\n",
       "    }\n",
       "\n",
       "    .dataframe thead th {\n",
       "        text-align: right;\n",
       "    }\n",
       "</style>\n",
       "<table border=\"1\" class=\"dataframe\">\n",
       "  <thead>\n",
       "    <tr style=\"text-align: right;\">\n",
       "      <th></th>\n",
       "      <th>index</th>\n",
       "      <th>city_name</th>\n",
       "      <th>y</th>\n",
       "      <th>temp_min</th>\n",
       "      <th>temp_max</th>\n",
       "      <th>rain_1h</th>\n",
       "      <th>clouds_all</th>\n",
       "    </tr>\n",
       "    <tr>\n",
       "      <th>ds</th>\n",
       "      <th></th>\n",
       "      <th></th>\n",
       "      <th></th>\n",
       "      <th></th>\n",
       "      <th></th>\n",
       "      <th></th>\n",
       "      <th></th>\n",
       "    </tr>\n",
       "  </thead>\n",
       "  <tbody>\n",
       "    <tr>\n",
       "      <th>2014-12-31</th>\n",
       "      <td>4</td>\n",
       "      <td>Valencia</td>\n",
       "      <td>270.475000</td>\n",
       "      <td>270.475000</td>\n",
       "      <td>270.475000</td>\n",
       "      <td>0.0</td>\n",
       "      <td>0.0</td>\n",
       "    </tr>\n",
       "    <tr>\n",
       "      <th>2015-01-01</th>\n",
       "      <td>9</td>\n",
       "      <td>Valencia</td>\n",
       "      <td>275.986987</td>\n",
       "      <td>275.986987</td>\n",
       "      <td>275.986987</td>\n",
       "      <td>0.0</td>\n",
       "      <td>0.0</td>\n",
       "    </tr>\n",
       "    <tr>\n",
       "      <th>2015-01-02</th>\n",
       "      <td>14</td>\n",
       "      <td>Valencia</td>\n",
       "      <td>276.784833</td>\n",
       "      <td>276.784833</td>\n",
       "      <td>276.784833</td>\n",
       "      <td>0.0</td>\n",
       "      <td>0.0</td>\n",
       "    </tr>\n",
       "    <tr>\n",
       "      <th>2015-01-03</th>\n",
       "      <td>19</td>\n",
       "      <td>Valencia</td>\n",
       "      <td>279.203802</td>\n",
       "      <td>279.203802</td>\n",
       "      <td>279.203802</td>\n",
       "      <td>0.0</td>\n",
       "      <td>2.5</td>\n",
       "    </tr>\n",
       "    <tr>\n",
       "      <th>2015-01-04</th>\n",
       "      <td>24</td>\n",
       "      <td>Valencia</td>\n",
       "      <td>279.260000</td>\n",
       "      <td>279.260000</td>\n",
       "      <td>279.260000</td>\n",
       "      <td>0.0</td>\n",
       "      <td>0.0</td>\n",
       "    </tr>\n",
       "  </tbody>\n",
       "</table>\n",
       "</div>"
      ],
      "text/plain": [
       "            index city_name           y    temp_min    temp_max  rain_1h  \\\n",
       "ds                                                                         \n",
       "2014-12-31      4  Valencia  270.475000  270.475000  270.475000      0.0   \n",
       "2015-01-01      9  Valencia  275.986987  275.986987  275.986987      0.0   \n",
       "2015-01-02     14  Valencia  276.784833  276.784833  276.784833      0.0   \n",
       "2015-01-03     19  Valencia  279.203802  279.203802  279.203802      0.0   \n",
       "2015-01-04     24  Valencia  279.260000  279.260000  279.260000      0.0   \n",
       "\n",
       "            clouds_all  \n",
       "ds                      \n",
       "2014-12-31         0.0  \n",
       "2015-01-01         0.0  \n",
       "2015-01-02         0.0  \n",
       "2015-01-03         2.5  \n",
       "2015-01-04         0.0  "
      ]
     },
     "execution_count": 3,
     "metadata": {},
     "output_type": "execute_result"
    }
   ],
   "source": [
    "\n",
    "\n",
    "# Load your data\n",
    "# Assuming your data is in a CSV file with a 'Date' column and a 'Temperature' column\n",
    "data = pd.read_csv('data/preprocessed_data.csv', parse_dates=['ds'], index_col='ds')\n",
    "data.head()\n"
   ]
  },
  {
   "cell_type": "code",
   "execution_count": null,
   "id": "14b9d459-a24e-4c98-9700-7a304bd4b383",
   "metadata": {},
   "outputs": [],
   "source": [
    "# Hyperparameters for ARIMA\n",
    "arima_order = (5, 1, 0)  # (p, d, q)\n",
    "sarima_order = ("
   ]
  },
  {
   "cell_type": "code",
   "execution_count": null,
   "id": "29748e66-b712-453c-b396-24fd0cee8551",
   "metadata": {},
   "outputs": [],
   "source": [
    "# Fit ARIMA model\n",
    "arima_model = ARIMA(data['y'], order=arima_order)\n",
    "arima_model_fit = arima_model.fit()\n",
    "forecast = arima_model_fit.forecast(365)\n",
    "\n",
    "# Summary of the model\n",
    "print(arima_model_fit.summary())\n",
    "\n",
    "# Plot the fitted values against the original data\n",
    "data['ARIMA_Fitted'] = arima_model_fit.fittedvalues\n",
    "data[['Temperature', 'ARIMA_Fitted']].plot(figsize=(10, 6))\n",
    "plt.show()\n"
   ]
  },
  {
   "cell_type": "code",
   "execution_count": null,
   "id": "1fc3c763-89d0-45cf-a041-88c50bfee262",
   "metadata": {},
   "outputs": [],
   "source": [
    "def evaluate_models_cv(dataset, p_values, d_values, q_values, P_values, D_values, Q_values, m):\n",
    "    K=3\n",
    "    result = []\n",
    "    best_rmse, best_cfg = float(\"inf\"), None\n",
    "    for p in p_values:\n",
    "        for d in d_values:\n",
    "            for q in q_values:\n",
    "                for P in P_values:\n",
    "                    for D in D_values:\n",
    "                        for Q in Q_values:\n",
    "                            trend_order = (p,d,q)\n",
    "                            seasonal_order = (P,D,Q,m)\n",
    "                            cfg = [(p,d,q), (P,D,Q,m)]\n",
    "                            validation_size=4\n",
    "                            train_size=len(dataset)-validation_size*K\n",
    "                            rmse=0\n",
    "                            for k in range(0,3):\n",
    "                                train, test = dataset[0:train_size+k*validation_size],dataset[train_size+k*validation_size:train_size+(k+1)*validation_size]\n",
    "                                model = ARIMA(train, order=trend_order, seasonal_order=seasonal_order) #each step: rolling one step forward to update the train se\n",
    "                                model_fit = model.fit()\n",
    "                                predictions=model_fit.forecast(validation_size)\n",
    "                                rmse = rmse+np.sqrt(skmetrics.mean_squared_error(test, predictions))\n",
    "                            rmse_avg=rmse/3\n",
    "                            result.append((cfg, rmse_avg))\n",
    "                            if rmse_avg < best_rmse:\n",
    "                                best_rmse, best_cfg = rmse_avg, cfg\n",
    "                                print('ARIMA%s RMSE=%.3f' % (cfg,rmse_avg))\n",
    "    print('Best SARIMA%s RMSE=%.3f' % (best_cfg, best_rmse))"
   ]
  },
  {
   "cell_type": "code",
   "execution_count": null,
   "id": "8d8fa2eb-6163-4b71-b298-f1e9dae1daad",
   "metadata": {},
   "outputs": [],
   "source": [
    "# order selection\n",
    "p=[0,1,2]\n",
    "d=[1,2]\n",
    "q=[0,1,2]\n",
    "P=[0,1,2]\n",
    "D=[1]\n",
    "Q=[0,1,2]\n",
    "m=4"
   ]
  },
  {
   "cell_type": "code",
   "execution_count": null,
   "id": "b9459a41-b20c-40d1-ac48-227088c5e697",
   "metadata": {},
   "outputs": [],
   "source": [
    "evaluate_models_cv(df, p,d,q,P,D,Q,m)"
   ]
  }
 ],
 "metadata": {
  "kernelspec": {
   "display_name": "Python 3 (ipykernel)",
   "language": "python",
   "name": "python3"
  },
  "language_info": {
   "codemirror_mode": {
    "name": "ipython",
    "version": 3
   },
   "file_extension": ".py",
   "mimetype": "text/x-python",
   "name": "python",
   "nbconvert_exporter": "python",
   "pygments_lexer": "ipython3",
   "version": "3.11.5"
  }
 },
 "nbformat": 4,
 "nbformat_minor": 5
}
