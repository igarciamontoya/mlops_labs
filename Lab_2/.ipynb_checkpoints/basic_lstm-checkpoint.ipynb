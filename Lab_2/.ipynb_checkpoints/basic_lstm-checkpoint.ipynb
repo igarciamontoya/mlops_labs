{
 "cells": [
  {
   "cell_type": "code",
   "execution_count": null,
   "id": "22e93607-5831-4b67-bdaa-a0205b3b51a1",
   "metadata": {},
   "outputs": [],
   "source": []
  },
  {
   "cell_type": "code",
   "execution_count": null,
   "id": "d2d0dd93-c8f9-4d0e-b337-5a8699913270",
   "metadata": {},
   "outputs": [],
   "source": [
    "import numpy as np\n",
    "import pandas as pd\n",
    "from tensorflow.keras.models import Sequential\n",
    "from tensorflow.keras.layers import LSTM, Dense, Dropout\n",
    "from sklearn.preprocessing import MinMaxScaler\n",
    "import matplotlib.pyplot as plt"
   ]
  },
  {
   "cell_type": "code",
   "execution_count": null,
   "id": "8b0dfab2-f274-4026-b78c-d7fd5a73b8d6",
   "metadata": {},
   "outputs": [],
   "source": [
    "\n",
    "\n",
    "# Load your data\n",
    "data = pd.read_csv('madrid_temperature.csv', parse_dates=['Date'], index_col='Date')\n",
    "\n",
    "# Hyperparameters\n",
    "lstm_units = 50\n",
    "dropout_rate = 0.2\n",
    "batch_size = 32\n",
    "epochs = 10\n",
    "look_back = 60  # Number of previous time steps to use as input variables to predict the next time period\n",
    "\n",
    "# Normalize the data\n",
    "scaler = MinMaxScaler(feature_range=(0, 1))\n",
    "scaled_data = scaler.fit_transform(data['Temperature'].values.reshape(-1, 1))\n",
    "\n",
    "# Create the training data\n",
    "X_train, y_train = [], []\n",
    "for i in range(look_back, len(scaled_data)):\n",
    "    X_train.append(scaled_data[i-look_back:i, 0])\n",
    "    y_train.append(scaled_data[i, 0])\n",
    "X_train, y_train = np.array(X_train), np.array(y_train)\n",
    "\n",
    "# Reshape X_train for LSTM input\n",
    "X_train = np.reshape(X_train, (X_train.shape[0], X_train.shape[1], 1))\n",
    "\n",
    "# Build the LSTM model\n",
    "lstm_model = Sequential()\n",
    "lstm_model.add(LSTM(units=lstm_units, return_sequences=True, input_shape=(X_train.shape[1], 1)))\n",
    "lstm_model.add(Dropout(dropout_rate))\n",
    "lstm_model.add(LSTM(units=lstm_units))\n",
    "lstm_model.add(Dropout(dropout_rate))\n",
    "lstm_model.add(Dense(1))\n",
    "\n",
    "# Compile the model\n",
    "lstm_model.compile(optimizer='adam', loss='mean_squared_error')\n",
    "\n",
    "# Train the model\n",
    "lstm_model.fit(X_train, y_train, epochs=epochs, batch_size=batch_size)\n",
    "\n",
    "# Making predictions\n",
    "predicted_temperature = lstm_model.predict(X_train)\n",
    "predicted_temperature = scaler.inverse_transform(predicted_temperature)\n",
    "\n",
    "# Plot the results\n",
    "plt.figure(figsize=(10, 6))\n",
    "plt.plot(data.index[look_back:], data['Temperature'][look_back:], color='blue', label='Actual Temperature')\n",
    "plt.plot(data.index[look_back:], predicted_temperature, color='red', label='Predicted Temperature')\n",
    "plt.xlabel('Date')\n",
    "plt.ylabel('Temperature')\n",
    "plt.legend()\n",
    "plt.show()\n"
   ]
  }
 ],
 "metadata": {
  "kernelspec": {
   "display_name": "Python 3 (ipykernel)",
   "language": "python",
   "name": "python3"
  },
  "language_info": {
   "codemirror_mode": {
    "name": "ipython",
    "version": 3
   },
   "file_extension": ".py",
   "mimetype": "text/x-python",
   "name": "python",
   "nbconvert_exporter": "python",
   "pygments_lexer": "ipython3",
   "version": "3.11.5"
  }
 },
 "nbformat": 4,
 "nbformat_minor": 5
}
