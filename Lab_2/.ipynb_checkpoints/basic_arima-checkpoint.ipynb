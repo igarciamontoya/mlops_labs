{
 "cells": [
  {
   "cell_type": "markdown",
   "id": "2e057453-d10f-4b5e-8887-03ead34d2008",
   "metadata": {},
   "source": [
    "# basic ARIMA"
   ]
  },
  {
   "cell_type": "code",
   "execution_count": null,
   "id": "10c44234-ee18-4c4e-8253-94a87a1d39dc",
   "metadata": {},
   "outputs": [],
   "source": []
  },
  {
   "cell_type": "code",
   "execution_count": null,
   "id": "19845579-b968-486a-bd86-1bca563f44c0",
   "metadata": {},
   "outputs": [],
   "source": [
    "import pandas as pd\n",
    "from statsmodels.tsa.arima.model import ARIMA\n",
    "import matplotlib.pyplot as plt\n",
    "\n",
    "# Load your data\n",
    "# Assuming your data is in a CSV file with a 'Date' column and a 'Temperature' column\n",
    "data = pd.read_csv('data/preprocessed_data.csv', parse_dates=['Date'], index_col='Date')\n",
    "\n",
    "# Hyperparameters for ARIMA\n",
    "arima_order = (5, 1, 0)  # (p, d, q)\n",
    "\n",
    "# Fit ARIMA model\n",
    "arima_model = ARIMA(data['Temperature'], order=arima_order)\n",
    "arima_model_fit = arima_model.fit()\n",
    "\n",
    "# Summary of the model\n",
    "print(arima_model_fit.summary())\n",
    "\n",
    "# Plot the fitted values against the original data\n",
    "data['ARIMA_Fitted'] = arima_model_fit.fittedvalues\n",
    "data[['Temperature', 'ARIMA_Fitted']].plot(figsize=(10, 6))\n",
    "plt.show()\n"
   ]
  },
  {
   "cell_type": "code",
   "execution_count": null,
   "id": "29748e66-b712-453c-b396-24fd0cee8551",
   "metadata": {},
   "outputs": [],
   "source": []
  }
 ],
 "metadata": {
  "kernelspec": {
   "display_name": "Python 3 (ipykernel)",
   "language": "python",
   "name": "python3"
  },
  "language_info": {
   "codemirror_mode": {
    "name": "ipython",
    "version": 3
   },
   "file_extension": ".py",
   "mimetype": "text/x-python",
   "name": "python",
   "nbconvert_exporter": "python",
   "pygments_lexer": "ipython3",
   "version": "3.11.5"
  }
 },
 "nbformat": 4,
 "nbformat_minor": 5
}
