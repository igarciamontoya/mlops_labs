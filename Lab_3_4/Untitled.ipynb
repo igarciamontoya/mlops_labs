{
 "cells": [
  {
   "cell_type": "code",
   "execution_count": 1,
   "id": "c678b565-4dc4-460f-853c-8c1b00bcdfe8",
   "metadata": {},
   "outputs": [],
   "source": [
    "import great_expectations as ge\n",
    "import pandas as pd"
   ]
  },
  {
   "cell_type": "code",
   "execution_count": 2,
   "id": "cdbeb062-e791-424b-ae39-037f94d2316b",
   "metadata": {},
   "outputs": [],
   "source": [
    "path = \"data/\"\n",
    "weather_features = pd.read_csv(f\"{path}weather_features.csv\")\n"
   ]
  },
  {
   "cell_type": "code",
   "execution_count": 3,
   "id": "0c0f5b9c-f71c-40d4-837b-0293fded0deb",
   "metadata": {},
   "outputs": [],
   "source": [
    "weather_features_gx = ge.dataset.PandasDataset(weather_features)"
   ]
  },
  {
   "cell_type": "code",
   "execution_count": 11,
   "id": "5f0b2af4-0e4d-45bc-a041-8b3bc7a8e095",
   "metadata": {},
   "outputs": [
    {
     "data": {
      "text/plain": [
       "100"
      ]
     },
     "execution_count": 11,
     "metadata": {},
     "output_type": "execute_result"
    }
   ],
   "source": [
    "weather_features.humidity.max()\n",
    "\n"
   ]
  },
  {
   "cell_type": "code",
   "execution_count": null,
   "id": "e94713ea-a25e-4ab8-a4f0-c92ecde81e94",
   "metadata": {},
   "outputs": [],
   "source": []
  },
  {
   "cell_type": "code",
   "execution_count": null,
   "id": "9725cc91-f74b-420a-afde-cfe21522fc09",
   "metadata": {},
   "outputs": [],
   "source": []
  }
 ],
 "metadata": {
  "kernelspec": {
   "display_name": "Python 3 (ipykernel)",
   "language": "python",
   "name": "python3"
  },
  "language_info": {
   "codemirror_mode": {
    "name": "ipython",
    "version": 3
   },
   "file_extension": ".py",
   "mimetype": "text/x-python",
   "name": "python",
   "nbconvert_exporter": "python",
   "pygments_lexer": "ipython3",
   "version": "3.12.4"
  }
 },
 "nbformat": 4,
 "nbformat_minor": 5
}
